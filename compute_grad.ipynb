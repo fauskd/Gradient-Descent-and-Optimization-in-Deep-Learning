{
 "cells": [
  {
   "cell_type": "code",
   "execution_count": 3,
   "id": "89a460d3",
   "metadata": {},
   "outputs": [],
   "source": [
    "import numpy as np\n",
    "import matplotlib.pyplot as plt\n",
    "\n",
    "def compute_gradients(Phi, X, V, b, N, I, NT, sigma, weights, dt):\n",
    "    \"\"\"\n",
    "    Compute gradients gradV and gradb based on the provided parameters.\n",
    "\n",
    "    Parameters:\n",
    "    - Phi: Array of shape (N * I, NT), the feature matrix.\n",
    "    - X: Array of shape (N * I, NT), input data.\n",
    "    - V: Array of shape (N, N), weights to be updated.\n",
    "    - b: Array of shape (N,), bias to be updated.\n",
    "    - N: Integer, size of a single data block.\n",
    "    - I: Integer, number of blocks.\n",
    "    - NT: Integer, number of time steps.\n",
    "    - sigma: Function, non-linearity to apply on input data.\n",
    "    - weights: Array of regularization weights.\n",
    "    - dt: Float, time step size.\n",
    "\n",
    "    Returns:\n",
    "    - gradV: Gradient of V.\n",
    "    - gradb: Gradient of b.\n",
    "    \"\"\"\n",
    "    gradV = np.zeros_like(V)\n",
    "    gradb = np.zeros_like(b)\n",
    "\n",
    "    for kk in range(NT - 1):\n",
    "        for ii in range(I):\n",
    "            ind = slice(N * (ii), N * (ii + 1))  # Selecting block indices\n",
    "            s = sigma(X[ind, kk])  # Apply non-linearity\n",
    "            gradV += dt * np.outer(Phi[ind, kk], s)  # Update gradV\n",
    "            gradb += dt * Phi[ind, kk]  # Update gradb\n",
    "\n",
    "    # Add regularization terms\n",
    "    gradV += dt * weights[1] * V\n",
    "    gradb += dt * weights[1] * b\n",
    "\n",
    "    return gradV, gradb\n"
   ]
  },
  {
   "cell_type": "code",
   "execution_count": 8,
   "id": "2d87c285",
   "metadata": {},
   "outputs": [
    {
     "name": "stdout",
     "output_type": "stream",
     "text": [
      "Gradient of V: [[0.06775705 0.07735735 0.09338362 0.07529366 0.0899381 ]\n",
      " [0.07511462 0.07930503 0.10011859 0.07639851 0.09587683]\n",
      " [0.09053116 0.09134878 0.11631591 0.085109   0.10915343]\n",
      " [0.07203    0.07199485 0.1043369  0.06364845 0.09614752]\n",
      " [0.07717726 0.07329497 0.09248259 0.06807113 0.09050142]]\n",
      "Gradient of b: [0.1814054  0.19120834 0.2161243  0.19163407 0.17000363]\n"
     ]
    }
   ],
   "source": [
    "# Example non-linearity function\n",
    "def sigma(x):\n",
    "    return np.tanh(x)  # Example activation function\n",
    "\n",
    "# Example input sizes\n",
    "N = 5\n",
    "I = 4\n",
    "NT = 10\n",
    "\n",
    "# Random inputs for demonstration\n",
    "Phi = np.random.rand(N * I, NT)\n",
    "X = np.random.rand(N * I, NT)\n",
    "V = np.random.rand(N, N)\n",
    "b = np.random.rand(N)\n",
    "weights = [0, 0.1]\n",
    "dt = 0.01\n",
    "\n",
    "# Compute gradients\n",
    "gradV, gradb = compute_gradients(Phi, X, V, b, N, I, NT, sigma, weights, dt)\n",
    "\n",
    "print(\"Gradient of V:\", gradV)\n",
    "print(\"Gradient of b:\", gradb)\n"
   ]
  },
  {
   "cell_type": "code",
   "execution_count": 10,
   "id": "28c18258",
   "metadata": {},
   "outputs": [],
   "source": [
    "def visualize_gradients_over_time(gradV, gradb):\n",
    "    \"\"\"\n",
    "    Visualize gradients gradV and gradb over time.\n",
    "\n",
    "    Parameters:\n",
    "    - gradV: Gradient of V, assumed to be (N, N, NT-1).\n",
    "    - gradb: Gradient of b, assumed to be (N, NT-1).\n",
    "    \"\"\"\n",
    "    gradV_norm = np.linalg.norm(gradV, axis=(0, 1))  # Norm of gradV at each time step\n",
    "    gradb_norm = np.linalg.norm(gradb, axis=0)       # Norm of gradb at each time step\n",
    "\n",
    "    time_steps = range(len(gradb_norm))  # Assuming NT-1 time steps\n",
    "\n",
    "    plt.figure(figsize=(12, 6))\n",
    "    plt.plot(time_steps, gradV_norm, label=\"Gradient Norm (V)\", marker='o')\n",
    "    plt.plot(time_steps, gradb_norm, label=\"Gradient Norm (b)\", marker='x')\n",
    "    plt.xlabel(\"Time Step\")\n",
    "    plt.ylabel(\"Gradient Norm\")\n",
    "    plt.title(\"Gradient Norms Over Time\")\n",
    "    plt.legend()\n",
    "    plt.grid()\n",
    "    plt.show()\n"
   ]
  },
  {
   "cell_type": "code",
   "execution_count": null,
   "id": "f1beb3d1",
   "metadata": {},
   "outputs": [],
   "source": []
  }
 ],
 "metadata": {
  "kernelspec": {
   "display_name": "Python 3 (ipykernel)",
   "language": "python",
   "name": "python3"
  },
  "language_info": {
   "codemirror_mode": {
    "name": "ipython",
    "version": 3
   },
   "file_extension": ".py",
   "mimetype": "text/x-python",
   "name": "python",
   "nbconvert_exporter": "python",
   "pygments_lexer": "ipython3",
   "version": "3.10.9"
  }
 },
 "nbformat": 4,
 "nbformat_minor": 5
}
